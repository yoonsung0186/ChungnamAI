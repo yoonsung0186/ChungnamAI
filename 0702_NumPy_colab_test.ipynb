{
  "nbformat": 4,
  "nbformat_minor": 0,
  "metadata": {
    "colab": {
      "provenance": [],
      "authorship_tag": "ABX9TyOqLKiMLS5RioC6hYmzaOXN",
      "include_colab_link": true
    },
    "kernelspec": {
      "name": "python3",
      "display_name": "Python 3"
    },
    "language_info": {
      "name": "python"
    }
  },
  "cells": [
    {
      "cell_type": "markdown",
      "metadata": {
        "id": "view-in-github",
        "colab_type": "text"
      },
      "source": [
        "<a href=\"https://colab.research.google.com/github/yoonsung0186/ChungnamAI/blob/main/0702_NumPy_colab_test.ipynb\" target=\"_parent\"><img src=\"https://colab.research.google.com/assets/colab-badge.svg\" alt=\"Open In Colab\"/></a>"
      ]
    },
    {
      "cell_type": "markdown",
      "source": [],
      "metadata": {
        "id": "Ew8BZaHIb05F"
      }
    },
    {
      "cell_type": "markdown",
      "source": [
        "# 📘 w3schools NumPy 튜토리얼"
      ],
      "metadata": {
        "id": "alvus9hrbU8x"
      }
    },
    {
      "cell_type": "markdown",
      "source": [
        "##1. NumPy 시작하기"
      ],
      "metadata": {
        "id": "WJrRB6uabzn4"
      }
    },
    {
      "cell_type": "markdown",
      "source": [
        "(1) NumPy 가져오기\n",
        "\n",
        "NumPy가 설치되면 키워드를 추가하여 응용 프로그램에 가져옵니다."
      ],
      "metadata": {
        "id": "dZ8RWFscbWz2"
      }
    },
    {
      "cell_type": "code",
      "source": [
        "import numpy"
      ],
      "metadata": {
        "id": "xNSuxhRcboPc"
      },
      "execution_count": 1,
      "outputs": []
    },
    {
      "cell_type": "markdown",
      "source": [
        "(2) NumPy를 np로"
      ],
      "metadata": {
        "id": "n62UyaWpbqBu"
      }
    },
    {
      "cell_type": "code",
      "source": [
        "import numpy as np"
      ],
      "metadata": {
        "id": "kex1lKuzbuVV"
      },
      "execution_count": 2,
      "outputs": []
    },
    {
      "cell_type": "markdown",
      "source": [
        "(3) NumPy 버전 확인"
      ],
      "metadata": {
        "id": "jedJHuvPbvvO"
      }
    },
    {
      "cell_type": "code",
      "source": [
        "import numpy as np\n",
        "print(np.__version__)"
      ],
      "metadata": {
        "colab": {
          "base_uri": "https://localhost:8080/"
        },
        "id": "eVJBzTHcbwvG",
        "outputId": "53ecec0f-047f-46f0-ddf7-fd459edbf723"
      },
      "execution_count": 3,
      "outputs": [
        {
          "output_type": "stream",
          "name": "stdout",
          "text": [
            "2.0.2\n"
          ]
        }
      ]
    },
    {
      "cell_type": "markdown",
      "source": [
        "##2. NumPy 배열 만들기"
      ],
      "metadata": {
        "id": "nnt8W4nvb_CT"
      }
    },
    {
      "cell_type": "markdown",
      "source": [
        "(1) NumPy ndarray 객체 만들기"
      ],
      "metadata": {
        "id": "hPd2vc4JcC78"
      }
    },
    {
      "cell_type": "code",
      "source": [
        "import numpy as np\n",
        "\n",
        "arr = np.array([1, 2, 3, 4, 5])\n",
        "\n",
        "print(arr)\n",
        "\n",
        "print(type(arr))"
      ],
      "metadata": {
        "colab": {
          "base_uri": "https://localhost:8080/"
        },
        "id": "5bW28OILcD4B",
        "outputId": "5771bcc5-dd02-404e-9ab8-099482dcbf7e"
      },
      "execution_count": 4,
      "outputs": [
        {
          "output_type": "stream",
          "name": "stdout",
          "text": [
            "[1 2 3 4 5]\n",
            "<class 'numpy.ndarray'>\n"
          ]
        }
      ]
    },
    {
      "cell_type": "markdown",
      "source": [
        "(2) 배열의 차원"
      ],
      "metadata": {
        "id": "Cd9vYwUUcFNV"
      }
    },
    {
      "cell_type": "markdown",
      "source": [
        "1) 0차원 배열"
      ],
      "metadata": {
        "id": "vAhw0TLwcGZg"
      }
    },
    {
      "cell_type": "code",
      "source": [
        "import numpy as np\n",
        "\n",
        "arr = np.array(42)\n",
        "\n",
        "print(arr)"
      ],
      "metadata": {
        "colab": {
          "base_uri": "https://localhost:8080/"
        },
        "id": "S5ZTVGkQcHT0",
        "outputId": "fc846bb9-b7fa-4344-d461-d903b591fa0e"
      },
      "execution_count": 5,
      "outputs": [
        {
          "output_type": "stream",
          "name": "stdout",
          "text": [
            "42\n"
          ]
        }
      ]
    },
    {
      "cell_type": "markdown",
      "source": [
        "2) 1차원 배열"
      ],
      "metadata": {
        "id": "rlmIkDc5cLMx"
      }
    },
    {
      "cell_type": "code",
      "source": [
        "import numpy as np\n",
        "\n",
        "arr = np.array([1, 2, 3, 4, 5])\n",
        "\n",
        "print(arr)"
      ],
      "metadata": {
        "colab": {
          "base_uri": "https://localhost:8080/"
        },
        "id": "kr_mYE4IcMz8",
        "outputId": "a1f9e7ea-7a9a-41d7-fdfa-7e4c9a0c5e0a"
      },
      "execution_count": 6,
      "outputs": [
        {
          "output_type": "stream",
          "name": "stdout",
          "text": [
            "[1 2 3 4 5]\n"
          ]
        }
      ]
    },
    {
      "cell_type": "markdown",
      "source": [
        "3) 2차원 배열"
      ],
      "metadata": {
        "id": "jn4NELCkcOVR"
      }
    },
    {
      "cell_type": "code",
      "source": [
        "import numpy as np\n",
        "\n",
        "arr = np.array([[1, 2, 3], [4, 5, 6]])\n",
        "\n",
        "print(arr)"
      ],
      "metadata": {
        "colab": {
          "base_uri": "https://localhost:8080/"
        },
        "id": "45JeXd8acPUq",
        "outputId": "2e1838f1-a1e7-43cc-e90d-9b9bb00cfd21"
      },
      "execution_count": 7,
      "outputs": [
        {
          "output_type": "stream",
          "name": "stdout",
          "text": [
            "[[1 2 3]\n",
            " [4 5 6]]\n"
          ]
        }
      ]
    },
    {
      "cell_type": "markdown",
      "source": [
        "4) 3차원 배열"
      ],
      "metadata": {
        "id": "OgcEP3NgcRbn"
      }
    },
    {
      "cell_type": "code",
      "source": [
        "import numpy as np\n",
        "\n",
        "arr = np.array([[[1, 2, 3], [4, 5, 6]], [[1, 2, 3], [4, 5, 6]]])\n",
        "\n",
        "print(arr)"
      ],
      "metadata": {
        "colab": {
          "base_uri": "https://localhost:8080/"
        },
        "id": "RZNcA8ZdcSci",
        "outputId": "f16aba13-9c09-42c6-a014-289b04c5c69f"
      },
      "execution_count": 8,
      "outputs": [
        {
          "output_type": "stream",
          "name": "stdout",
          "text": [
            "[[[1 2 3]\n",
            "  [4 5 6]]\n",
            "\n",
            " [[1 2 3]\n",
            "  [4 5 6]]]\n"
          ]
        }
      ]
    },
    {
      "cell_type": "markdown",
      "source": [
        "(3) 차원 수 확인"
      ],
      "metadata": {
        "id": "elG1PRbrcUEO"
      }
    },
    {
      "cell_type": "code",
      "source": [
        "import numpy as np\n",
        "\n",
        "a = np.array(42)\n",
        "b = np.array([1, 2, 3, 4, 5])\n",
        "c = np.array([[1, 2, 3], [4, 5, 6]])\n",
        "d = np.array([[[1, 2, 3], [4, 5, 6]], [[1, 2, 3], [4, 5, 6]]])\n",
        "\n",
        "print(a.ndim)\n",
        "print(b.ndim)\n",
        "print(c.ndim)\n",
        "print(d.ndim)"
      ],
      "metadata": {
        "colab": {
          "base_uri": "https://localhost:8080/"
        },
        "id": "ZDVqy9_mcVGk",
        "outputId": "82c9a195-ef72-43da-b077-c58499125491"
      },
      "execution_count": 9,
      "outputs": [
        {
          "output_type": "stream",
          "name": "stdout",
          "text": [
            "0\n",
            "1\n",
            "2\n",
            "3\n"
          ]
        }
      ]
    },
    {
      "cell_type": "markdown",
      "source": [
        "(4) 5차원 배열 및 배열 수 확인"
      ],
      "metadata": {
        "id": "FaygxXJJcWu8"
      }
    },
    {
      "cell_type": "code",
      "source": [
        "import numpy as np\n",
        "\n",
        "arr = np.array([1, 2, 3, 4], ndmin=5)\n",
        "\n",
        "print(arr)\n",
        "print('number of dimensions :', arr.ndim)"
      ],
      "metadata": {
        "colab": {
          "base_uri": "https://localhost:8080/"
        },
        "id": "if7uGWr3cXyh",
        "outputId": "14bfd3a2-c3de-4323-cf2b-6c4eebba5c3d"
      },
      "execution_count": 10,
      "outputs": [
        {
          "output_type": "stream",
          "name": "stdout",
          "text": [
            "[[[[[1 2 3 4]]]]]\n",
            "number of dimensions : 5\n"
          ]
        }
      ]
    },
    {
      "cell_type": "markdown",
      "source": [
        "##3. NumPy 배열 인덱싱"
      ],
      "metadata": {
        "id": "1EkZ8dXjcZck"
      }
    },
    {
      "cell_type": "markdown",
      "source": [
        "##(1) Access 배열 요소"
      ],
      "metadata": {
        "id": "l3u-q8wNcbFJ"
      }
    },
    {
      "cell_type": "markdown",
      "source": [
        "-> 배열 요소에 액세스하는 것과 동일\n",
        "\n",
        "--> NumPy 배열의 인덱스는 0으로 시작, 이는 첫 번째 요소가 인덱스는 0, 두 번째는 인덱스 1"
      ],
      "metadata": {
        "id": "vRoAJVc9cep-"
      }
    },
    {
      "cell_type": "markdown",
      "source": [
        "1) 배열에서 요소 가져오기"
      ],
      "metadata": {
        "id": "2TNuLCCxcfql"
      }
    },
    {
      "cell_type": "code",
      "source": [
        "import numpy as np\n",
        "\n",
        "arr = np.array([1, 2, 3, 4])\n",
        "\n",
        "print(arr[0])"
      ],
      "metadata": {
        "colab": {
          "base_uri": "https://localhost:8080/"
        },
        "id": "SAHlXUHTcgwH",
        "outputId": "bf530c01-a689-4e0e-a0fc-df338efe5609"
      },
      "execution_count": 11,
      "outputs": [
        {
          "output_type": "stream",
          "name": "stdout",
          "text": [
            "1\n"
          ]
        }
      ]
    },
    {
      "cell_type": "code",
      "source": [
        "import numpy as np\n",
        "\n",
        "arr = np.array([1, 2, 3, 4])\n",
        "\n",
        "print(arr[1])"
      ],
      "metadata": {
        "colab": {
          "base_uri": "https://localhost:8080/"
        },
        "id": "IS6zFj7_ciUc",
        "outputId": "952b6b51-123a-499c-aca7-fb7572402a7f"
      },
      "execution_count": 12,
      "outputs": [
        {
          "output_type": "stream",
          "name": "stdout",
          "text": [
            "2\n"
          ]
        }
      ]
    },
    {
      "cell_type": "markdown",
      "source": [
        "2) 배열에서 요소 가져오기 및 추가"
      ],
      "metadata": {
        "id": "oRg5CkbScj-T"
      }
    },
    {
      "cell_type": "code",
      "source": [
        "import numpy as np\n",
        "\n",
        "arr = np.array([1, 2, 3, 4])\n",
        "\n",
        "print(arr[2] + arr[3])"
      ],
      "metadata": {
        "colab": {
          "base_uri": "https://localhost:8080/"
        },
        "id": "xp-kIK4yclCs",
        "outputId": "1814e19c-df38-4ebd-fdd1-6925cd5a7c0e"
      },
      "execution_count": 13,
      "outputs": [
        {
          "output_type": "stream",
          "name": "stdout",
          "text": [
            "7\n"
          ]
        }
      ]
    },
    {
      "cell_type": "markdown",
      "source": [
        "(2) 배열에 액세스하기"
      ],
      "metadata": {
        "id": "N7884Gf_cm2U"
      }
    },
    {
      "cell_type": "code",
      "source": [
        "import numpy as np\n",
        "\n",
        "arr = np.array([[[1, 2, 3], [4, 5, 6]], [[7, 8, 9], [10, 11, 12]]])\n",
        "\n",
        "print(arr[0, 1, 2])"
      ],
      "metadata": {
        "colab": {
          "base_uri": "https://localhost:8080/"
        },
        "id": "LN75s34jco1c",
        "outputId": "254739b9-8d4f-45f8-d841-a60e4c8c3a62"
      },
      "execution_count": 14,
      "outputs": [
        {
          "output_type": "stream",
          "name": "stdout",
          "text": [
            "6\n"
          ]
        }
      ]
    }
  ]
}