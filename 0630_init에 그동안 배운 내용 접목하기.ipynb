{
  "nbformat": 4,
  "nbformat_minor": 0,
  "metadata": {
    "colab": {
      "provenance": [],
      "authorship_tag": "ABX9TyNbAtmd2Ona53Umehe3KnBJ",
      "include_colab_link": true
    },
    "kernelspec": {
      "name": "python3",
      "display_name": "Python 3"
    },
    "language_info": {
      "name": "python"
    }
  },
  "cells": [
    {
      "cell_type": "markdown",
      "metadata": {
        "id": "view-in-github",
        "colab_type": "text"
      },
      "source": [
        "<a href=\"https://colab.research.google.com/github/yoonsung0186/ChungnamAI/blob/main/0630_init%EC%97%90%20%EA%B7%B8%EB%8F%99%EC%95%88%20%EB%B0%B0%EC%9A%B4%20%EB%82%B4%EC%9A%A9%20%EC%A0%91%EB%AA%A9%ED%95%98%EA%B8%B0.ipynb\" target=\"_parent\"><img src=\"https://colab.research.google.com/assets/colab-badge.svg\" alt=\"Open In Colab\"/></a>"
      ]
    },
    {
      "cell_type": "markdown",
      "source": [
        "1번 코드. main함수 안에서 실행하기\n",
        "\n",
        "핵심: 이 코드는 가장 단순한 구조로, main 안에서 순차적으로 실행되고 함수 호출이 없어요! 위에서 아래로 쭉 실행되는 직선형 코드입니다.\n",
        "\n",
        "\n",
        "## 실행 순서\n",
        "1.   프로그램 시작: if __name__ == \"__main__\": 조건 확인 후 main 실행부 시작\n",
        "2.   시스템 출력:\n",
        "3.   장애물 감지 시작: obstacles = [] 빈 리스트 생성\n",
        "4.   센서 데이터 검사:\n",
        "5.   장애물 출력:\n",
        "6.   프로그램 종료\n",
        "\n"
      ],
      "metadata": {
        "id": "emt4dbxyYV9T"
      }
    },
    {
      "cell_type": "code",
      "source": [
        "# 센서 데이터 (거리 측정값, 단위: 미터)\n",
        "sensors = {\n",
        "    \"앞\": 8.0,\n",
        "    \"왼쪽\": 15.0,\n",
        "    \"오른쪽\": 4.0\n",
        "}\n",
        "\n",
        "# 안전 거리 설정\n",
        "safe_distance = 10.0\n",
        "\n",
        "if __name__ == \"__main__\":\n",
        "    print(\"🚗 자율주행 장애물 감지 시스템\")\n",
        "    print(\"-\" * 30)\n",
        "\n",
        "    # 장애물 감지\n",
        "    obstacles = []\n",
        "    for direction, distance in sensors.items():\n",
        "        if distance < safe_distance:\n",
        "            obstacles.append(direction)\n",
        "\n",
        "    print(f\"\\n🚨 감지된 장애물: {obstacles}\")"
      ],
      "metadata": {
        "colab": {
          "base_uri": "https://localhost:8080/"
        },
        "id": "M27u93r5Y-nL",
        "outputId": "d0d8d817-7b0d-4a13-d2ce-cd7d0e4b3525"
      },
      "execution_count": 1,
      "outputs": [
        {
          "output_type": "stream",
          "name": "stdout",
          "text": [
            "🚗 자율주행 장애물 감지 시스템\n",
            "------------------------------\n",
            "\n",
            "🚨 감지된 장애물: ['앞', '오른쪽']\n"
          ]
        }
      ]
    },
    {
      "cell_type": "markdown",
      "source": [
        "2번 코드\n",
        "## 실행 순서\n",
        "\n",
        "\n",
        "1.   프로그램 시작: if __name__ == \"__main__\": 조건 확인 후 main 실행부 시작\n",
        "2.   시스템 출력:\n",
        "3.   main에서 함수 호출 obstacles = detect_obstacles(sensors, safe_distance)\n",
        "4.   함수로 이동: def detect_obstacles(sensors, safe_distance): 안으로 들어가서 실행\n",
        "5.   return으로 값 반환: return obstacles 로 ['앞', '오른쪽'] 리스트를 돌려줌\n",
        "6.   main으로 돌아옴: obstacles = detect_obstacles(sensors, safe_distance) 에서 obstacles 변수에 ['앞', '오른쪽']가 저장됨\n",
        "7.   장애물 출력: print(f\"\\n🚨 감지된 장애물: {obstacles}\")\n",
        "\n",
        "\n",
        "*   결과: 🚨 감지된 장애물: ['앞', '오른쪽']\n",
        "8.   프로그램 종료\n",
        "\n"
      ],
      "metadata": {
        "id": "T23WIzM9ZGut"
      }
    },
    {
      "cell_type": "code",
      "source": [
        "# 센서 데이터 (거리 측정값, 단위: 미터)\n",
        "sensors = {\n",
        "    \"앞\": 8.0,\n",
        "    \"왼쪽\": 15.0,\n",
        "    \"오른쪽\": 4.0\n",
        "}\n",
        "\n",
        "# 안전 거리 설정\n",
        "safe_distance = 10.0\n",
        "\n",
        "def detect_obstacles(sensors, safe_distance):\n",
        "    \"\"\"장애물을 감지하는 함수\"\"\"\n",
        "    obstacles = []\n",
        "    for direction, distance in sensors.items():\n",
        "        if distance < safe_distance:\n",
        "            obstacles.append(direction)\n",
        "    return obstacles\n",
        "\n",
        "if __name__ == \"__main__\":\n",
        "    print(\"🚗 자율주행 장애물 감지 시스템\")\n",
        "    print(\"-\" * 30)\n",
        "\n",
        "    # 장애물 감지 함수 호출\n",
        "    obstacles = detect_obstacles(sensors, safe_distance)\n",
        "\n",
        "    print(f\"\\n🚨 감지된 장애물: {obstacles}\")"
      ],
      "metadata": {
        "colab": {
          "base_uri": "https://localhost:8080/"
        },
        "id": "h3hnk7QhZkpu",
        "outputId": "4f5f90fc-836f-4582-aea7-3dd5301e6cfb"
      },
      "execution_count": 2,
      "outputs": [
        {
          "output_type": "stream",
          "name": "stdout",
          "text": [
            "🚗 자율주행 장애물 감지 시스템\n",
            "------------------------------\n",
            "\n",
            "🚨 감지된 장애물: ['앞', '오른쪽']\n"
          ]
        }
      ]
    },
    {
      "cell_type": "markdown",
      "source": [
        "## 실행 순서\n",
        "1. 프로그램 시작: if __name__ == \"__main__\": 조건 확인 후 main 실행부 시작\n",
        "2. 시스템 출력:\n",
        "3. 장애물 감지 시작: obstacles = [] 빈 리스트 생성\n",
        "4. 센서 데이터 검사: for 문장\n",
        "5. 장애물 출력:\n",
        "6. 행동 결정 로직 실행:\n",
        "7. 행동 출력:\n",
        "* 결과: \"좌회전\"\n",
        "8. 프로그램 종료"
      ],
      "metadata": {
        "id": "pzO7vjrFZs7K"
      }
    },
    {
      "cell_type": "code",
      "source": [
        "# 센서 데이터 (거리 측정값, 단위: 미터)\n",
        "sensors = {\n",
        "    \"앞\": 8.0,\n",
        "    \"왼쪽\": 15.0,\n",
        "    \"오른쪽\": 4.0\n",
        "}\n",
        "\n",
        "# 안전 거리 설정\n",
        "safe_distance = 10.0\n",
        "\n",
        "if __name__ == \"__main__\":\n",
        "    print(\"🚗 자율주행 장애물 감지 시스템\")\n",
        "    print(\"-\" * 30)\n",
        "\n",
        "    # 장애물 감지\n",
        "    obstacles = []\n",
        "    for direction, distance in sensors.items():\n",
        "        if distance < safe_distance:\n",
        "            obstacles.append(direction)\n",
        "\n",
        "    print(f\"\\n🚨 감지된 장애물: {obstacles}\")\n",
        "\n",
        "    # 행동 결정\n",
        "    if len(obstacles) == 0:\n",
        "        action = \"직진\"\n",
        "    elif \"앞\" in obstacles:\n",
        "        if \"왼쪽\" not in obstacles:\n",
        "            action = \"좌회전\"\n",
        "        elif \"오른쪽\" not in obstacles:\n",
        "            action = \"우회전\"\n",
        "        else:\n",
        "            action = \"정지\"\n",
        "    else:\n",
        "        action = \"주의해서 직진\"\n",
        "\n",
        "    print(f\"🎯 결정된 행동: {action}\")"
      ],
      "metadata": {
        "colab": {
          "base_uri": "https://localhost:8080/"
        },
        "id": "M1lKYdQGaIFx",
        "outputId": "609f1349-376a-42e4-ca75-cf93ff038b2d"
      },
      "execution_count": 3,
      "outputs": [
        {
          "output_type": "stream",
          "name": "stdout",
          "text": [
            "🚗 자율주행 장애물 감지 시스템\n",
            "------------------------------\n",
            "\n",
            "🚨 감지된 장애물: ['앞', '오른쪽']\n",
            "🎯 결정된 행동: 좌회전\n"
          ]
        }
      ]
    },
    {
      "cell_type": "markdown",
      "source": [
        "## 실행 순서:\n",
        "\n",
        "1. **프로그램 시작**: `if __name__ == \"__main__\":` 조건 확인 후 main 실행부 시작\n",
        "\n",
        "2. **시스템 출력**:\n",
        "   ```python\n",
        "   print(\"🚗 자율주행 장애물 감지 시스템\")\n",
        "   print(\"-\" * 30)\n",
        "   ```\n",
        "\n",
        "3. **main에서 함수 호출**:\n",
        "`obstacles = detect_obstacles(sensors, safe_distance)`\n",
        "\n",
        "4. **함수로 이동**:\n",
        " `def detect_obstacles(sensors, safe_distance):` 안으로 들어가서 실행\n",
        "   - for문으로 센서 데이터 검사\n",
        "   - 안전거리보다 가까운 방향들을 obstacles 리스트에 추가\n",
        "\n",
        "5. **return으로 값 반환**: `return obstacles` 로 장애물 리스트를 돌려줌\n",
        "\n",
        "6. **main으로 돌아옴**: `obstacles = detect_obstacles(sensors, safe_distance)` 에서 `obstacles` 변수에 결과가 저장됨\n",
        "\n",
        "7. **장애물 출력**:\n",
        "`print(f\"\\n🚨 감지된 장애물: {obstacles}\")`\n",
        "\n",
        "8. **행동 결정 로직 실행**:\n",
        " if-elif-else 문으로 상황에 맞는 행동 결정\n",
        "\n",
        "9. **행동 출력**:\n",
        "`print(f\"🎯 결정된 행동: {action}\")`\n",
        "\n",
        "10. **프로그램 종료**\n",
        "\n",
        "**핵심 포인트**:\n",
        " 함수는 호출되면 → 실행 → 결과 반환 → 호출한 곳으로 돌아가서 계속 진행!"
      ],
      "metadata": {
        "id": "So-dtlNMaQFz"
      }
    },
    {
      "cell_type": "code",
      "source": [
        "# 센서 데이터 (거리 측정값, 단위: 미터)\n",
        "sensors = {\n",
        "    \"앞\": 8.0,\n",
        "    \"왼쪽\": 15.0,\n",
        "    \"오른쪽\": 4.0\n",
        "}\n",
        "\n",
        "# 안전 거리 설정\n",
        "safe_distance = 10.0\n",
        "\n",
        "def detect_obstacles(sensors, safe_distance):\n",
        "    \"\"\"장애물을 감지하는 함수\"\"\"\n",
        "    obstacles = []\n",
        "    for direction, distance in sensors.items():\n",
        "        if distance < safe_distance:\n",
        "            obstacles.append(direction)\n",
        "    return obstacles\n",
        "\n",
        "if __name__ == \"__main__\":\n",
        "    print(\"🚗 자율주행 장애물 감지 시스템\")\n",
        "    print(\"-\" * 30)\n",
        "\n",
        "    # 장애물 감지\n",
        "    obstacles = detect_obstacles(sensors, safe_distance)\n",
        "\n",
        "    print(f\"\\n🚨 감지된 장애물: {obstacles}\")\n",
        "\n",
        "    # 행동 결정\n",
        "    if len(obstacles) == 0:\n",
        "        action = \"직진\"\n",
        "    elif \"앞\" in obstacles:\n",
        "        if \"왼쪽\" not in obstacles:\n",
        "            action = \"좌회전\"\n",
        "        elif \"오른쪽\" not in obstacles:\n",
        "            action = \"우회전\"\n",
        "        else:\n",
        "            action = \"정지\"\n",
        "    else:\n",
        "        action = \"주의해서 직진\"\n",
        "\n",
        "    print(f\"🎯 결정된 행동: {action}\")"
      ],
      "metadata": {
        "colab": {
          "base_uri": "https://localhost:8080/"
        },
        "id": "8uYFDsn_aj-P",
        "outputId": "ee94a200-adcf-45af-9721-c8d019c977e6"
      },
      "execution_count": 4,
      "outputs": [
        {
          "output_type": "stream",
          "name": "stdout",
          "text": [
            "🚗 자율주행 장애물 감지 시스템\n",
            "------------------------------\n",
            "\n",
            "🚨 감지된 장애물: ['앞', '오른쪽']\n",
            "🎯 결정된 행동: 좌회전\n"
          ]
        }
      ]
    },
    {
      "cell_type": "markdown",
      "source": [
        "main에서 호출:\n",
        "action = decide_action(obstacles)\n",
        "함수로 이동: def decide_action(obstacles): 안으로 들어가서 실행\n",
        "\n",
        "return으로 값 반환: return action 으로 결과값을 돌려줌\n",
        "\n",
        "main으로 돌아옴:\n",
        " action = decide_action(obstacles) 에서 action 변수에 값이 저장됨\n",
        "\n",
        "다음 줄 실행: print(f\"🎯 결정된 행동: {action}\")"
      ],
      "metadata": {
        "id": "JOPiTeS2alb1"
      }
    },
    {
      "cell_type": "code",
      "source": [
        "# 센서 데이터 (거리 측정값, 단위: 미터)\n",
        "sensors = {\n",
        "    \"앞\": 8.0,\n",
        "    \"왼쪽\": 15.0,\n",
        "    \"오른쪽\": 4.0\n",
        "}\n",
        "\n",
        "# 안전 거리 설정\n",
        "safe_distance = 10.0\n",
        "\n",
        "def detect_obstacles(sensors, safe_distance):\n",
        "    \"\"\"장애물을 감지하는 함수\"\"\"\n",
        "    obstacles = []\n",
        "    for direction, distance in sensors.items():\n",
        "        if distance < safe_distance:\n",
        "            obstacles.append(direction)\n",
        "    return obstacles\n",
        "\n",
        "def decide_action(obstacles):\n",
        "    \"\"\"장애물 정보를 바탕으로 행동을 결정하는 함수\"\"\"\n",
        "    if len(obstacles) == 0:\n",
        "        action = \"직진\"\n",
        "    elif \"앞\" in obstacles:\n",
        "        if \"왼쪽\" not in obstacles:\n",
        "            action = \"좌회전\"\n",
        "        elif \"오른쪽\" not in obstacles:\n",
        "            action = \"우회전\"\n",
        "        else:\n",
        "            action = \"정지\"\n",
        "    else:\n",
        "        action = \"주의해서 직진\"\n",
        "    return action\n",
        "\n",
        "if __name__ == \"__main__\":\n",
        "    print(\"🚗 자율주행 장애물 감지 시스템\")\n",
        "    print(\"-\" * 30)\n",
        "\n",
        "    # 장애물 감지\n",
        "    obstacles = detect_obstacles(sensors, safe_distance)\n",
        "    print(f\"\\n🚨 감지된 장애물: {obstacles}\")\n",
        "\n",
        "    # 행동 결정\n",
        "    action = decide_action(obstacles)\n",
        "    print(f\"🎯 결정된 행동: {action}\")"
      ],
      "metadata": {
        "colab": {
          "base_uri": "https://localhost:8080/"
        },
        "id": "taOS4nlQaoxs",
        "outputId": "d534742f-a846-4174-99b4-534f70efdf34"
      },
      "execution_count": 5,
      "outputs": [
        {
          "output_type": "stream",
          "name": "stdout",
          "text": [
            "🚗 자율주행 장애물 감지 시스템\n",
            "------------------------------\n",
            "\n",
            "🚨 감지된 장애물: ['앞', '오른쪽']\n",
            "🎯 결정된 행동: 좌회전\n"
          ]
        }
      ]
    }
  ]
}